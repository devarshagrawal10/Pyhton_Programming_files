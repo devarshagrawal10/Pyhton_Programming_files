{
  "nbformat": 4,
  "nbformat_minor": 0,
  "metadata": {
    "colab": {
      "provenance": [],
      "authorship_tag": "ABX9TyO5KTxrZ5Gz+cVJ2d+YYyXr",
      "include_colab_link": true
    },
    "kernelspec": {
      "name": "python3",
      "display_name": "Python 3"
    },
    "language_info": {
      "name": "python"
    }
  },
  "cells": [
    {
      "cell_type": "markdown",
      "metadata": {
        "id": "view-in-github",
        "colab_type": "text"
      },
      "source": [
        "<a href=\"https://colab.research.google.com/github/devarshagrawal10/Pyhton_Programming_files/blob/main/Calculator.ipynb\" target=\"_parent\"><img src=\"https://colab.research.google.com/assets/colab-badge.svg\" alt=\"Open In Colab\"/></a>"
      ]
    },
    {
      "cell_type": "code",
      "execution_count": null,
      "metadata": {
        "id": "ZtcCXIKduTsp"
      },
      "outputs": [],
      "source": [
        "a=float(input(\"Enter the first digit\\n\"))\n",
        "b=float(input(\"Enter the second digit\\n\"))\n",
        "select=input(\"Enter the operator you want to use\")\n",
        "if select=='+':\n",
        "  print(a+b)\n",
        "elif select=='-':\n",
        "  print(a-b)\n",
        "elif select=='*':\n",
        "  print(a*b)\n",
        "elif select=='/':\n",
        "  print(a/b)\n",
        "elif select=='**':\n",
        "  print(a**b)\n",
        "elif select=='//':\n",
        "  print(a//b)\n",
        "elif select=='>':\n",
        "  print(a>b)\n",
        "elif select=='<':\n",
        "  print(a<b)\n",
        "elif select== '=':\n",
        "  print(a=b)\n",
        "elif select=='%':\n",
        "  print(a%b)\n",
        "else:\n",
        "  print(\"Enter the correct operator\")"
      ]
    }
  ]
}