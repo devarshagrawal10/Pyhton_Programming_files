{
  "nbformat": 4,
  "nbformat_minor": 0,
  "metadata": {
    "colab": {
      "provenance": [],
      "authorship_tag": "ABX9TyM0ww74BgQKxxpfjgPKVlUa",
      "include_colab_link": true
    },
    "kernelspec": {
      "name": "python3",
      "display_name": "Python 3"
    },
    "language_info": {
      "name": "python"
    }
  },
  "cells": [
    {
      "cell_type": "markdown",
      "metadata": {
        "id": "view-in-github",
        "colab_type": "text"
      },
      "source": [
        "<a href=\"https://colab.research.google.com/github/devarshagrawal10/Pyhton_Programming_files/blob/main/python_3feb.ipynb\" target=\"_parent\"><img src=\"https://colab.research.google.com/assets/colab-badge.svg\" alt=\"Open In Colab\"/></a>"
      ]
    },
    {
      "cell_type": "code",
      "execution_count": 6,
      "metadata": {
        "colab": {
          "base_uri": "https://localhost:8080/"
        },
        "id": "A_VVT-F2JDSI",
        "outputId": "34cdedd9-f527-4cd2-eb86-ea1ac6c44e03"
      },
      "outputs": [
        {
          "output_type": "stream",
          "name": "stdout",
          "text": [
            "[2, 3, 5, 7, 11, 13, 17, 19, 23, 29, 31, 37, 41, 43, 47, 53, 59, 61, 67, 71, 73, 79, 83, 89, 97]\n"
          ]
        }
      ],
      "source": [
        "#wap to remove duplicates from list and sort them in ascending order\n",
        "sirrrr=[4,5,6,7,2,8,1,5,4,6,9,4,2,3,4,8,7]\n",
        "blaahh=[]\n",
        "for i in sirrrr:\n",
        "    if i not in blaahh:\n",
        "        blaahh.append(i)\n",
        "        blaahh.sort()\n",
        "print(sirrrr)\n",
        "print(blaahh)\n",
        "\n",
        "#wap to swap first and last element of the list.\n",
        "devarsh=[2,3,4,5,6,7,8,9]\n",
        "print(devarsh)\n",
        "first=devarsh[0]\n",
        "second=devarsh[-1]\n",
        "devarsh[0]=second\n",
        "devarsh[-1]=first\n",
        "print(devarsh)\n",
        "\n",
        "#write  a program to create a list of prime numbers till 100\n",
        "list_slay = []\n",
        "for bro in range(2, 100):\n",
        "\n",
        "    # Assume number is prime until shown it is not.\n",
        "    a = True\n",
        "    for x in range(2, bro):\n",
        "        if bro % x == 0:\n",
        "            a = False\n",
        "\n",
        "    if a:\n",
        "        list_slay.append(bro)\n",
        "print(list_slay)"
      ]
    }
  ]
}