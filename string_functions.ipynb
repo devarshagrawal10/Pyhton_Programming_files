{
  "nbformat": 4,
  "nbformat_minor": 0,
  "metadata": {
    "colab": {
      "provenance": [],
      "authorship_tag": "ABX9TyNhDsNuxsA3nSiyJNirI3M+",
      "include_colab_link": true
    },
    "kernelspec": {
      "name": "python3",
      "display_name": "Python 3"
    },
    "language_info": {
      "name": "python"
    }
  },
  "cells": [
    {
      "cell_type": "markdown",
      "metadata": {
        "id": "view-in-github",
        "colab_type": "text"
      },
      "source": [
        "<a href=\"https://colab.research.google.com/github/devarshagrawal10/Pyhton_Programming_files/blob/main/string_functions.ipynb\" target=\"_parent\"><img src=\"https://colab.research.google.com/assets/colab-badge.svg\" alt=\"Open In Colab\"/></a>"
      ]
    },
    {
      "cell_type": "code",
      "source": [
        "print('the operators present in Python for Strings\\n')\n",
        "a = input(\"Enter a String\\n\")\n",
        "print(\"To capitalize the first letter\")\n",
        "print(a.capitalize())\n",
        "print(\"To lowercase the whole string\")\n",
        "print(a.lower())\n",
        "print(\"To capitalize whole string\")\n",
        "print(a.upper())\n",
        "print(\"To find certain letter position\")\n",
        "print(a.find('h'))\n",
        "print(\"To find out if the string is ending with a certain letter or not\")\n",
        "print(a.endswith('d'))\n",
        "print(\"To check if the whole string is of alphabets\")\n",
        "print(a.isalpha())\n",
        "print(\"To check if the given string has numbers\")\n",
        "print(a.isalnum())\n",
        "print(\"To check if the given string contains lower case alphabet\")\n",
        "print(a.islower())\n",
        "print(\"To check if the given string conatins upper case alphabet\")\n",
        "print(a.isupper())\n",
        "print(\"To find total number of alphabets present in the string\")\n",
        "print(len(a))\n",
        "print(\"To find how many times a cetain letter is repeating in a string\")\n",
        "print(a.count(a))\n",
        "print(\"To find if all the characters are ascii\")\n",
        "print(a.isascii())\n",
        "print(\"To find if the whole string is decimal\")\n",
        "print(a.isdecimal())\n",
        "print(\"To find is the whole string is numbers\")\n",
        "print(a.isdigit())\n",
        "print(\"To find if the string is printable\")\n",
        "print(a.isprintable())\n",
        "print(\"To find if the whole string has spaces\")\n",
        "print(a.isspace())\n",
        "print(\"To find if the string is identifier\")\n",
        "print(a.isidentifier())\n",
        "print(\"To remove unnecesary spaces\")\n",
        "print(a.strip())\n",
        "print(\"To split the string by a certain alphabet\")\n",
        "print(a.rsplit())\n",
        "print(\"To convert each word's first letter in uppercase\")\n",
        "print(a.title())"
      ],
      "metadata": {
        "colab": {
          "base_uri": "https://localhost:8080/"
        },
        "id": "rMb7-jZG4DXU",
        "outputId": "ae57fdb6-3ab8-4654-d834-595bd37d113d"
      },
      "execution_count": 7,
      "outputs": [
        {
          "output_type": "stream",
          "name": "stdout",
          "text": [
            "the operators present in Python for Strings\n",
            "\n",
            "Enter a String\n",
            "alfqhwou skcnaouhc sdknqdiua JOIHOIHk dknaiohakcm5ew54v5ad4v\n",
            "To capitalize the first letter\n",
            "Alfqhwou skcnaouhc sdknqdiua joihoihk dknaiohakcm5ew54v5ad4v\n",
            "To lowercase the whole string\n",
            "alfqhwou skcnaouhc sdknqdiua joihoihk dknaiohakcm5ew54v5ad4v\n",
            "To capitalize whole string\n",
            "ALFQHWOU SKCNAOUHC SDKNQDIUA JOIHOIHK DKNAIOHAKCM5EW54V5AD4V\n",
            "To find certain letter position\n",
            "4\n",
            "To find out if the string is ending with a certain letter or not\n",
            "False\n",
            "To check if the whole string is of alphabets\n",
            "False\n",
            "To check if the given string has numbers\n",
            "False\n",
            "To check if the given string contains lower case alphabet\n",
            "False\n",
            "To check if the given string conatins upper case alphabet\n",
            "False\n",
            "To find total number of alphabets present in the string\n",
            "60\n",
            "To find how many times a cetain letter is repeating in a string\n",
            "1\n",
            "To find if all the characters are ascii\n",
            "True\n",
            "To find if the whole string is decimal\n",
            "False\n",
            "To find is the whole string is numbers\n",
            "False\n",
            "To find if the string is printable\n",
            "True\n",
            "To find if the whole string has spaces\n",
            "False\n",
            "To find if the string is identifier\n",
            "False\n",
            "To remove unnecesary spaces\n",
            "alfqhwou skcnaouhc sdknqdiua JOIHOIHk dknaiohakcm5ew54v5ad4v\n",
            "To split the string by a certain alphabet\n",
            "['alfqhwou', 'skcnaouhc', 'sdknqdiua', 'JOIHOIHk', 'dknaiohakcm5ew54v5ad4v']\n",
            "To convert each word's first letter in uppercase\n",
            "Alfqhwou Skcnaouhc Sdknqdiua Joihoihk Dknaiohakcm5Ew54V5Ad4V\n"
          ]
        }
      ]
    }
  ]
}