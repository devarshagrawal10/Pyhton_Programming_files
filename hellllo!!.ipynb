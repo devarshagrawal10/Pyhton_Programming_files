{
  "nbformat": 4,
  "nbformat_minor": 0,
  "metadata": {
    "colab": {
      "provenance": [],
      "authorship_tag": "ABX9TyP2JPppZk/Snuotf1Q44bbw",
      "include_colab_link": true
    },
    "kernelspec": {
      "name": "python3",
      "display_name": "Python 3"
    },
    "language_info": {
      "name": "python"
    }
  },
  "cells": [
    {
      "cell_type": "markdown",
      "metadata": {
        "id": "view-in-github",
        "colab_type": "text"
      },
      "source": [
        "<a href=\"https://colab.research.google.com/github/devarshagrawal10/Pyhton_Programming_files/blob/main/hellllo!!.ipynb\" target=\"_parent\"><img src=\"https://colab.research.google.com/assets/colab-badge.svg\" alt=\"Open In Colab\"/></a>"
      ]
    },
    {
      "cell_type": "code",
      "source": [
        "print('the operators present in Python for Strings\\n')\n",
        "a = input(\"Enter a String\\n\")\n",
        "print(\"To capitalize the first letter\")\n",
        "print(a.capitalize())\n",
        "print(\"To lowercase the whole string\")\n",
        "print(a.lower())\n",
        "print(\"To capitalize whole string\")\n",
        "print(a.upper())\n",
        "print(\"To find certain letter position\")\n",
        "print(a.find('h'))\n",
        "print(\"To find out if the string is ending with a certain letter or not\")\n",
        "print(a.endswith('d'))\n",
        "print(\"To check if the whole string is of alphabets\")\n",
        "print(a.isalpha())\n",
        "print(\"To check if the given string has numbers\")\n",
        "print(a.isalnum())\n",
        "print(\"To check if the given string contains lower case alphabet\")\n",
        "print(a.islower())\n",
        "print(\"To check if the given string conatins upper case alphabet\")\n",
        "print(a.isupper())\n",
        "print(\"To find total number of alphabets present in the string\")\n",
        "print(len(a))\n",
        "print(\"To find how many times a cetain letter is repeating in a string\")\n",
        "print(a.count(a))\n",
        "print(\"To find if all the characters are ascii\")\n",
        "print(a.isascii())\n",
        "print(\"To find if the whole string is decimal\")\n",
        "print(a.isdecimal())\n",
        "print(\"To find is the whole string is numbers\")\n",
        "print(a.isnum())\n",
        "print(\"To find if the string is printable\")\n",
        "print(a.isprintable())\n",
        "print(\"To find is the string has spaces\")\n",
        "print(a.isalspace())\n",
        "print(\"To find is the string has decimal\")\n",
        "print(a.isaldecimal())"
      ],
      "metadata": {
        "colab": {
          "base_uri": "https://localhost:8080/"
        },
        "id": "rMb7-jZG4DXU",
        "outputId": "e4df7594-5dbe-4849-ffcb-e2fda2f58494"
      },
      "execution_count": 18,
      "outputs": [
        {
          "output_type": "stream",
          "name": "stdout",
          "text": [
            "the operators present in Python for Strings\n",
            "\n",
            "Enter a String\n",
            "heello9\n",
            "To capitalize the first letter\n",
            "Heello9\n",
            "To lowercase the whole string\n",
            "heello9\n",
            "To capitalize whole string\n",
            "HEELLO9\n",
            "To find certain letter position\n",
            "0\n",
            "To find out if the string is ending with a certain letter or not\n",
            "False\n",
            "To check if the whole string is of alphabets\n",
            "False\n",
            "To check if the given string has numbers\n",
            "True\n",
            "To check if the given string contains lower case alphabet\n",
            "True\n",
            "To check if the given string conatins upper case alphabet\n",
            "False\n",
            "To find total number of alphabets present in the string\n",
            "7\n",
            "To find how many times a cetain letter is repeating in a string\n",
            "1\n",
            "To find if all the characters are ascii\n",
            "True\n",
            "To find if the whole string is decimal\n",
            "False\n",
            "\n"
          ]
        }
      ]
    }
  ]
}