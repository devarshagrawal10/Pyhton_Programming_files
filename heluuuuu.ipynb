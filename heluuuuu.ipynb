{
  "nbformat": 4,
  "nbformat_minor": 0,
  "metadata": {
    "colab": {
      "provenance": [],
      "authorship_tag": "ABX9TyNj6odT5V/TN+EtzaZUevAk",
      "include_colab_link": true
    },
    "kernelspec": {
      "name": "python3",
      "display_name": "Python 3"
    },
    "language_info": {
      "name": "python"
    }
  },
  "cells": [
    {
      "cell_type": "markdown",
      "metadata": {
        "id": "view-in-github",
        "colab_type": "text"
      },
      "source": [
        "<a href=\"https://colab.research.google.com/github/devarshagrawal10/Pyhton_Programming_files/blob/main/heluuuuu.ipynb\" target=\"_parent\"><img src=\"https://colab.research.google.com/assets/colab-badge.svg\" alt=\"Open In Colab\"/></a>"
      ]
    },
    {
      "cell_type": "code",
      "execution_count": 3,
      "metadata": {
        "colab": {
          "base_uri": "https://localhost:8080/"
        },
        "id": "sSbFo5HKCw-Z",
        "outputId": "e8bc14fa-3358-444d-86f7-ac4c89112502"
      },
      "outputs": [
        {
          "output_type": "stream",
          "name": "stdout",
          "text": [
            "Enter the first digit3\n",
            "Enter the second digit5\n",
            "Enter to do what 3\n",
            "15.0\n"
          ]
        }
      ],
      "source": [
        "a=float(input(\"Enter the first digit\"))\n",
        "b=float(input(\"Enter the second digit\"))\n",
        "print(\"1 for addition \\n 2 for subtraction \\n 3 for multiplication \\n 4 for division \\n 5 for finding the value of b as the power of a \\n 6 for rounded up value of division \\n 7 to check if a is greater than b \\n 8 to check if b is greater than a \\n 9 to check if a is equals to b \")\n",
        "print(\"10 to print the reminder od a divided by b\")\n",
        "select=int(input(\"Enter to do what \"))\n",
        "if select==1:\n",
        "  print(a+b)\n",
        "elif select==2:\n",
        "  print(a-b)\n",
        "elif select==3:\n",
        "  print(a*b)\n",
        "elif select==4:\n",
        "  print(a/b)\n",
        "elif select==5:\n",
        "  print(a**b)\n",
        "elif select==6:\n",
        "  print(a//b)\n",
        "elif select==7:\n",
        "  print(a>b)\n",
        "elif select==8:\n",
        "  print(a<b)\n",
        "elif select==9:\n",
        "  print(a=b)\n",
        "elif select==10:\n",
        "  print(a%b)\n",
        "else:\n",
        "  print(\"Sahi value likh na bhai\")"
      ]
    }
  ]
}