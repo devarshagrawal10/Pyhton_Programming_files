{
  "nbformat": 4,
  "nbformat_minor": 0,
  "metadata": {
    "colab": {
      "provenance": [],
      "authorship_tag": "ABX9TyOWxyDc5cRt3ytGZa8/dxsG",
      "include_colab_link": true
    },
    "kernelspec": {
      "name": "python3",
      "display_name": "Python 3"
    },
    "language_info": {
      "name": "python"
    }
  },
  "cells": [
    {
      "cell_type": "markdown",
      "metadata": {
        "id": "view-in-github",
        "colab_type": "text"
      },
      "source": [
        "<a href=\"https://colab.research.google.com/github/devarshagrawal10/Pyhton_Programming_files/blob/main/Rockpaperscissorgame.ipynb\" target=\"_parent\"><img src=\"https://colab.research.google.com/assets/colab-badge.svg\" alt=\"Open In Colab\"/></a>"
      ]
    },
    {
      "cell_type": "code",
      "execution_count": 6,
      "metadata": {
        "colab": {
          "base_uri": "https://localhost:8080/"
        },
        "id": "9el4PxE76M_v",
        "outputId": "525f7f04-c055-4424-a35b-72b8fb08021e"
      },
      "outputs": [
        {
          "output_type": "stream",
          "name": "stdout",
          "text": [
            "Enter a choice (rock, paper, scissors): rock\n",
            "\n",
            "You chose rock, computer chose paper.\n",
            "\n",
            "Paper covers rock! You lose.\n"
          ]
        }
      ],
      "source": [
        "import random\n",
        "\n",
        "user = input(\"Enter a choice (rock, paper, scissors): \")\n",
        "possible = [\"rock\", \"paper\", \"scissors\"]\n",
        "computer = random.choice(possible)\n",
        "print(f\"\\nYou chose {user}, computer chose {computer}.\\n\")\n",
        "\n",
        "if user == computer:\n",
        "    print(f\"Both players selected {user}. It's a tie!\")\n",
        "elif user == \"rock\":\n",
        "    if computer == \"scissors\":\n",
        "        print(\"Rock smashes scissors! You win!\")\n",
        "    else:\n",
        "        print(\"Paper covers rock! You lose.\")\n",
        "elif user == \"paper\":\n",
        "    if computer == \"rock\":\n",
        "        print(\"Paper covers rock! You win!\")\n",
        "    else:\n",
        "        print(\"Scissors cuts paper! You lose.\")\n",
        "elif user == \"scissors\":\n",
        "    if computer == \"paper\":\n",
        "        print(\"Scissors cuts paper! You win!\")\n",
        "    else:\n",
        "        print(\"Rock smashes scissors! You lose.\")"
      ]
    }
  ]
}