{
  "nbformat": 4,
  "nbformat_minor": 0,
  "metadata": {
    "colab": {
      "provenance": [],
      "authorship_tag": "ABX9TyMj2gp83/MgBKiOGZl1OBiX",
      "include_colab_link": true
    },
    "kernelspec": {
      "name": "python3",
      "display_name": "Python 3"
    },
    "language_info": {
      "name": "python"
    }
  },
  "cells": [
    {
      "cell_type": "markdown",
      "metadata": {
        "id": "view-in-github",
        "colab_type": "text"
      },
      "source": [
        "<a href=\"https://colab.research.google.com/github/devarshagrawal10/Pyhton_Programming_files/blob/main/Weight_conversion.ipynb\" target=\"_parent\"><img src=\"https://colab.research.google.com/assets/colab-badge.svg\" alt=\"Open In Colab\"/></a>"
      ]
    },
    {
      "cell_type": "code",
      "execution_count": 3,
      "metadata": {
        "colab": {
          "base_uri": "https://localhost:8080/"
        },
        "id": "za1MeIMT4OjS",
        "outputId": "6a803f5a-6c16-4b36-a583-488ca9c5f0df"
      },
      "outputs": [
        {
          "output_type": "stream",
          "name": "stdout",
          "text": [
            "Enter the weight\n",
            "65\n",
            "Enter the unit \n",
            " kg or lbs\n",
            "kg\n",
            "Weight in pounds is  143.3003 lbs\n"
          ]
        }
      ],
      "source": [
        "weight = int(input(\"Enter the weight\\n\"))\n",
        "unit = input(\"Enter the unit \\n kg or lbs\\n\")\n",
        "if unit=='kg':\n",
        "  print(\"Weight in pounds is \", weight*2.20462 , \"lbs\")\n",
        "elif unit == 'lbs':\n",
        "  print(\"Weight in kilograms is \" , weight/0.45 , \"kg\")\n",
        "else :\n",
        "  print(\"Enter valid units\")"
      ]
    }
  ]
}